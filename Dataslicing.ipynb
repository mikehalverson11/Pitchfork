{
 "cells": [
  {
   "cell_type": "code",
   "execution_count": 90,
   "metadata": {
    "collapsed": true
   },
   "outputs": [],
   "source": [
    "%matplotlib inline\n",
    "import pandas as pd\n",
    "import matplotlib.pyplot as plt\n",
    "import numpy as np"
   ]
  },
  {
   "cell_type": "code",
   "execution_count": 91,
   "metadata": {
    "collapsed": false
   },
   "outputs": [],
   "source": [
    "df=pd.read_csv(\"Pitchfork2.csv\",encoding = \"ISO-8859-1\")"
   ]
  },
  {
   "cell_type": "code",
   "execution_count": 92,
   "metadata": {
    "collapsed": false
   },
   "outputs": [],
   "source": [
    "df=df.drop('Unnamed: 0',axis=1)"
   ]
  },
  {
   "cell_type": "code",
   "execution_count": 93,
   "metadata": {
    "collapsed": false
   },
   "outputs": [],
   "source": [
    "genres=[\"RockFolk/Country\",\"RockMetalExperimental\",\n",
    "\"GlobalPop/R&B\",\n",
    "\"Pop/R&BFolk/Country\",\n",
    "\"ExperimentalElectronic\",\n",
    "\"RapElectronic\",\n",
    "\"RockRap\",\n",
    "\"JazzExperimental\",\n",
    " \"JazzElectronic\",\n",
    "\"RockPop/R&B\",\n",
    "\"Global\",\n",
    "  \"RapPop/R&B\",\n",
    "\"RockExperimentalElectronic\",\n",
    "     \"Jazz\",\n",
    " \"Pop/R&BElectronic\",\n",
    "  \"Metal\",\n",
    " \"RockMetal\",\n",
    "\"Experimental\",\n",
    "\"Folk/Country\",\n",
    " \"Pop/R&B\",\n",
    " \"RockExperimental\",\n",
    "  \"Rap\",\n",
    "\"RockElectronic\",\n",
    " \"Electronic\",\"Rock\"]"
   ]
  },
  {
   "cell_type": "code",
   "execution_count": 94,
   "metadata": {
    "collapsed": false
   },
   "outputs": [],
   "source": [
    "genremeans=df.groupby(\"genre\").mean().reset_index()"
   ]
  },
  {
   "cell_type": "code",
   "execution_count": 110,
   "metadata": {
    "collapsed": false
   },
   "outputs": [
    {
     "data": {
      "text/plain": [
       "<matplotlib.axes._subplots.AxesSubplot at 0x1e2351bc860>"
      ]
     },
     "execution_count": 110,
     "metadata": {},
     "output_type": "execute_result"
    },
    {
     "data": {
      "image/png": "[encoded data removed]",
      "text/plain": [
       "<matplotlib.figure.Figure at 0x1e2353a2438>"
      ]
     },
     "metadata": {},
     "output_type": "display_data"
    }
   ],
   "source": [
    "genremeans.ix[genremeans['genre'].isin(genres)].sort_values('scores',ascending=False).plot(x=\"genre\",y=\"scores\",kind=\"bar\",legend=False)"
   ]
  },
  {
   "cell_type": "code",
   "execution_count": 107,
   "metadata": {
    "collapsed": false
   },
   "outputs": [
    {
     "data": {
      "text/html": [
       "<div>\n",
       "<table border=\"1\" class=\"dataframe\">\n",
       "  <thead>\n",
       "    <tr style=\"text-align: right;\">\n",
       "      <th></th>\n",
       "      <th>dates</th>\n",
       "      <th>month</th>\n",
       "      <th>day</th>\n",
       "      <th>Release Year</th>\n",
       "    </tr>\n",
       "  </thead>\n",
       "  <tbody>\n",
       "    <tr>\n",
       "      <th>0</th>\n",
       "      <td>19 hrs ago</td>\n",
       "      <td>12</td>\n",
       "      <td>23</td>\n",
       "      <td>2016</td>\n",
       "    </tr>\n",
       "    <tr>\n",
       "      <th>1</th>\n",
       "      <td>19 hrs ago</td>\n",
       "      <td>12</td>\n",
       "      <td>23</td>\n",
       "      <td>2016</td>\n",
       "    </tr>\n",
       "    <tr>\n",
       "      <th>2</th>\n",
       "      <td>19 hrs ago</td>\n",
       "      <td>12</td>\n",
       "      <td>23</td>\n",
       "      <td>2016</td>\n",
       "    </tr>\n",
       "    <tr>\n",
       "      <th>3</th>\n",
       "      <td>December 22 2016</td>\n",
       "      <td>12</td>\n",
       "      <td>22</td>\n",
       "      <td>2016</td>\n",
       "    </tr>\n",
       "    <tr>\n",
       "      <th>4</th>\n",
       "      <td>December 22 2016</td>\n",
       "      <td>12</td>\n",
       "      <td>22</td>\n",
       "      <td>2016</td>\n",
       "    </tr>\n",
       "    <tr>\n",
       "      <th>5</th>\n",
       "      <td>December 22 2016</td>\n",
       "      <td>12</td>\n",
       "      <td>22</td>\n",
       "      <td>1996</td>\n",
       "    </tr>\n",
       "    <tr>\n",
       "      <th>6</th>\n",
       "      <td>December 21 2016</td>\n",
       "      <td>12</td>\n",
       "      <td>21</td>\n",
       "      <td>2016</td>\n",
       "    </tr>\n",
       "    <tr>\n",
       "      <th>7</th>\n",
       "      <td>December 21 2016</td>\n",
       "      <td>12</td>\n",
       "      <td>21</td>\n",
       "      <td>2016</td>\n",
       "    </tr>\n",
       "    <tr>\n",
       "      <th>8</th>\n",
       "      <td>December 20 2016</td>\n",
       "      <td>12</td>\n",
       "      <td>20</td>\n",
       "      <td>2016</td>\n",
       "    </tr>\n",
       "    <tr>\n",
       "      <th>9</th>\n",
       "      <td>December 20 2016</td>\n",
       "      <td>12</td>\n",
       "      <td>20</td>\n",
       "      <td>2016</td>\n",
       "    </tr>\n",
       "    <tr>\n",
       "      <th>10</th>\n",
       "      <td>December 19 2016</td>\n",
       "      <td>12</td>\n",
       "      <td>19</td>\n",
       "      <td>2016</td>\n",
       "    </tr>\n",
       "    <tr>\n",
       "      <th>11</th>\n",
       "      <td>December 19 2016</td>\n",
       "      <td>12</td>\n",
       "      <td>19</td>\n",
       "      <td>2016</td>\n",
       "    </tr>\n",
       "    <tr>\n",
       "      <th>12</th>\n",
       "      <td>December 17 2016</td>\n",
       "      <td>12</td>\n",
       "      <td>17</td>\n",
       "      <td>2016</td>\n",
       "    </tr>\n",
       "    <tr>\n",
       "      <th>13</th>\n",
       "      <td>December 17 2016</td>\n",
       "      <td>12</td>\n",
       "      <td>17</td>\n",
       "      <td>2016</td>\n",
       "    </tr>\n",
       "    <tr>\n",
       "      <th>14</th>\n",
       "      <td>December 17 2016</td>\n",
       "      <td>12</td>\n",
       "      <td>17</td>\n",
       "      <td>2016</td>\n",
       "    </tr>\n",
       "    <tr>\n",
       "      <th>15</th>\n",
       "      <td>December 17 2016</td>\n",
       "      <td>12</td>\n",
       "      <td>17</td>\n",
       "      <td>2016</td>\n",
       "    </tr>\n",
       "    <tr>\n",
       "      <th>16</th>\n",
       "      <td>December 16 2016</td>\n",
       "      <td>12</td>\n",
       "      <td>16</td>\n",
       "      <td>2016</td>\n",
       "    </tr>\n",
       "    <tr>\n",
       "      <th>17</th>\n",
       "      <td>December 16 2016</td>\n",
       "      <td>12</td>\n",
       "      <td>16</td>\n",
       "      <td>2016</td>\n",
       "    </tr>\n",
       "    <tr>\n",
       "      <th>18</th>\n",
       "      <td>December 16 2016</td>\n",
       "      <td>12</td>\n",
       "      <td>16</td>\n",
       "      <td>2016</td>\n",
       "    </tr>\n",
       "    <tr>\n",
       "      <th>19</th>\n",
       "      <td>December 16 2016</td>\n",
       "      <td>12</td>\n",
       "      <td>16</td>\n",
       "      <td>2016</td>\n",
       "    </tr>\n",
       "    <tr>\n",
       "      <th>20</th>\n",
       "      <td>December 15 2016</td>\n",
       "      <td>12</td>\n",
       "      <td>15</td>\n",
       "      <td>2016</td>\n",
       "    </tr>\n",
       "    <tr>\n",
       "      <th>21</th>\n",
       "      <td>December 15 2016</td>\n",
       "      <td>12</td>\n",
       "      <td>15</td>\n",
       "      <td>1966</td>\n",
       "    </tr>\n",
       "    <tr>\n",
       "      <th>22</th>\n",
       "      <td>December 15 2016</td>\n",
       "      <td>12</td>\n",
       "      <td>15</td>\n",
       "      <td>2016</td>\n",
       "    </tr>\n",
       "    <tr>\n",
       "      <th>23</th>\n",
       "      <td>December 15 2016</td>\n",
       "      <td>12</td>\n",
       "      <td>15</td>\n",
       "      <td>2016</td>\n",
       "    </tr>\n",
       "    <tr>\n",
       "      <th>24</th>\n",
       "      <td>December 14 2016</td>\n",
       "      <td>12</td>\n",
       "      <td>14</td>\n",
       "      <td>2016</td>\n",
       "    </tr>\n",
       "    <tr>\n",
       "      <th>25</th>\n",
       "      <td>December 14 2016</td>\n",
       "      <td>12</td>\n",
       "      <td>14</td>\n",
       "      <td>2016</td>\n",
       "    </tr>\n",
       "    <tr>\n",
       "      <th>26</th>\n",
       "      <td>December 14 2016</td>\n",
       "      <td>12</td>\n",
       "      <td>14</td>\n",
       "      <td>2016</td>\n",
       "    </tr>\n",
       "    <tr>\n",
       "      <th>27</th>\n",
       "      <td>December 14 2016</td>\n",
       "      <td>12</td>\n",
       "      <td>14</td>\n",
       "      <td>2016</td>\n",
       "    </tr>\n",
       "    <tr>\n",
       "      <th>28</th>\n",
       "      <td>December 11 2016</td>\n",
       "      <td>12</td>\n",
       "      <td>11</td>\n",
       "      <td>1998</td>\n",
       "    </tr>\n",
       "    <tr>\n",
       "      <th>29</th>\n",
       "      <td>December 10 2016</td>\n",
       "      <td>12</td>\n",
       "      <td>10</td>\n",
       "      <td>2016</td>\n",
       "    </tr>\n",
       "    <tr>\n",
       "      <th>...</th>\n",
       "      <td>...</td>\n",
       "      <td>...</td>\n",
       "      <td>...</td>\n",
       "      <td>...</td>\n",
       "    </tr>\n",
       "    <tr>\n",
       "      <th>19174</th>\n",
       "      <td>March 23 1999</td>\n",
       "      <td>3</td>\n",
       "      <td>23</td>\n",
       "      <td>1999</td>\n",
       "    </tr>\n",
       "    <tr>\n",
       "      <th>19175</th>\n",
       "      <td>March 15 1999</td>\n",
       "      <td>3</td>\n",
       "      <td>15</td>\n",
       "      <td>1999</td>\n",
       "    </tr>\n",
       "    <tr>\n",
       "      <th>19176</th>\n",
       "      <td>March 9 1999</td>\n",
       "      <td>3</td>\n",
       "      <td>9</td>\n",
       "      <td>1999</td>\n",
       "    </tr>\n",
       "    <tr>\n",
       "      <th>19177</th>\n",
       "      <td>March 9 1999</td>\n",
       "      <td>3</td>\n",
       "      <td>9</td>\n",
       "      <td>1999</td>\n",
       "    </tr>\n",
       "    <tr>\n",
       "      <th>19178</th>\n",
       "      <td>March 9 1999</td>\n",
       "      <td>3</td>\n",
       "      <td>9</td>\n",
       "      <td>1999</td>\n",
       "    </tr>\n",
       "    <tr>\n",
       "      <th>19179</th>\n",
       "      <td>March 9 1999</td>\n",
       "      <td>3</td>\n",
       "      <td>9</td>\n",
       "      <td>1999</td>\n",
       "    </tr>\n",
       "    <tr>\n",
       "      <th>19180</th>\n",
       "      <td>March 4 1999</td>\n",
       "      <td>3</td>\n",
       "      <td>4</td>\n",
       "      <td>1999</td>\n",
       "    </tr>\n",
       "    <tr>\n",
       "      <th>19181</th>\n",
       "      <td>March 2 1999</td>\n",
       "      <td>3</td>\n",
       "      <td>2</td>\n",
       "      <td>1999</td>\n",
       "    </tr>\n",
       "    <tr>\n",
       "      <th>19182</th>\n",
       "      <td>March 1 1999</td>\n",
       "      <td>3</td>\n",
       "      <td>1</td>\n",
       "      <td>1999</td>\n",
       "    </tr>\n",
       "    <tr>\n",
       "      <th>19183</th>\n",
       "      <td>February 28 1999</td>\n",
       "      <td>2</td>\n",
       "      <td>28</td>\n",
       "      <td>1999</td>\n",
       "    </tr>\n",
       "    <tr>\n",
       "      <th>19184</th>\n",
       "      <td>February 23 1999</td>\n",
       "      <td>2</td>\n",
       "      <td>23</td>\n",
       "      <td>1999</td>\n",
       "    </tr>\n",
       "    <tr>\n",
       "      <th>19185</th>\n",
       "      <td>February 23 1999</td>\n",
       "      <td>2</td>\n",
       "      <td>23</td>\n",
       "      <td>1999</td>\n",
       "    </tr>\n",
       "    <tr>\n",
       "      <th>19186</th>\n",
       "      <td>February 23 1999</td>\n",
       "      <td>2</td>\n",
       "      <td>23</td>\n",
       "      <td>1999</td>\n",
       "    </tr>\n",
       "    <tr>\n",
       "      <th>19187</th>\n",
       "      <td>February 23 1999</td>\n",
       "      <td>2</td>\n",
       "      <td>23</td>\n",
       "      <td>1999</td>\n",
       "    </tr>\n",
       "    <tr>\n",
       "      <th>19188</th>\n",
       "      <td>February 23 1999</td>\n",
       "      <td>2</td>\n",
       "      <td>23</td>\n",
       "      <td>1999</td>\n",
       "    </tr>\n",
       "    <tr>\n",
       "      <th>19189</th>\n",
       "      <td>February 23 1999</td>\n",
       "      <td>2</td>\n",
       "      <td>23</td>\n",
       "      <td>1999</td>\n",
       "    </tr>\n",
       "    <tr>\n",
       "      <th>19190</th>\n",
       "      <td>February 23 1999</td>\n",
       "      <td>2</td>\n",
       "      <td>23</td>\n",
       "      <td>1999</td>\n",
       "    </tr>\n",
       "    <tr>\n",
       "      <th>19191</th>\n",
       "      <td>February 23 1999</td>\n",
       "      <td>2</td>\n",
       "      <td>23</td>\n",
       "      <td>1999</td>\n",
       "    </tr>\n",
       "    <tr>\n",
       "      <th>19192</th>\n",
       "      <td>February 18 1999</td>\n",
       "      <td>2</td>\n",
       "      <td>18</td>\n",
       "      <td>1999</td>\n",
       "    </tr>\n",
       "    <tr>\n",
       "      <th>19193</th>\n",
       "      <td>February 16 1999</td>\n",
       "      <td>2</td>\n",
       "      <td>16</td>\n",
       "      <td>1999</td>\n",
       "    </tr>\n",
       "    <tr>\n",
       "      <th>19194</th>\n",
       "      <td>February 11 1999</td>\n",
       "      <td>2</td>\n",
       "      <td>11</td>\n",
       "      <td>1999</td>\n",
       "    </tr>\n",
       "    <tr>\n",
       "      <th>19195</th>\n",
       "      <td>February 9 1999</td>\n",
       "      <td>2</td>\n",
       "      <td>9</td>\n",
       "      <td>1999</td>\n",
       "    </tr>\n",
       "    <tr>\n",
       "      <th>19196</th>\n",
       "      <td>February 9 1999</td>\n",
       "      <td>2</td>\n",
       "      <td>9</td>\n",
       "      <td>1999</td>\n",
       "    </tr>\n",
       "    <tr>\n",
       "      <th>19197</th>\n",
       "      <td>February 9 1999</td>\n",
       "      <td>2</td>\n",
       "      <td>9</td>\n",
       "      <td>1999</td>\n",
       "    </tr>\n",
       "    <tr>\n",
       "      <th>19198</th>\n",
       "      <td>February 1 1999</td>\n",
       "      <td>2</td>\n",
       "      <td>1</td>\n",
       "      <td>1999</td>\n",
       "    </tr>\n",
       "    <tr>\n",
       "      <th>19199</th>\n",
       "      <td>January 26 1999</td>\n",
       "      <td>1</td>\n",
       "      <td>26</td>\n",
       "      <td>1999</td>\n",
       "    </tr>\n",
       "    <tr>\n",
       "      <th>19200</th>\n",
       "      <td>January 26 1999</td>\n",
       "      <td>1</td>\n",
       "      <td>26</td>\n",
       "      <td>1999</td>\n",
       "    </tr>\n",
       "    <tr>\n",
       "      <th>19201</th>\n",
       "      <td>January 12 1999</td>\n",
       "      <td>1</td>\n",
       "      <td>12</td>\n",
       "      <td>1999</td>\n",
       "    </tr>\n",
       "    <tr>\n",
       "      <th>19202</th>\n",
       "      <td>January 12 1999</td>\n",
       "      <td>1</td>\n",
       "      <td>12</td>\n",
       "      <td>1999</td>\n",
       "    </tr>\n",
       "    <tr>\n",
       "      <th>19203</th>\n",
       "      <td>January 5 1999</td>\n",
       "      <td>1</td>\n",
       "      <td>5</td>\n",
       "      <td>1999</td>\n",
       "    </tr>\n",
       "  </tbody>\n",
       "</table>\n",
       "<p>19204 rows × 4 columns</p>\n",
       "</div>"
      ],
      "text/plain": [
       "                  dates  month day Release Year\n",
       "0            19 hrs ago     12  23         2016\n",
       "1            19 hrs ago     12  23         2016\n",
       "2            19 hrs ago     12  23         2016\n",
       "3      December 22 2016     12  22         2016\n",
       "4      December 22 2016     12  22         2016\n",
       "5      December 22 2016     12  22         1996\n",
       "6      December 21 2016     12  21         2016\n",
       "7      December 21 2016     12  21         2016\n",
       "8      December 20 2016     12  20         2016\n",
       "9      December 20 2016     12  20         2016\n",
       "10     December 19 2016     12  19         2016\n",
       "11     December 19 2016     12  19         2016\n",
       "12     December 17 2016     12  17         2016\n",
       "13     December 17 2016     12  17         2016\n",
       "14     December 17 2016     12  17         2016\n",
       "15     December 17 2016     12  17         2016\n",
       "16     December 16 2016     12  16         2016\n",
       "17     December 16 2016     12  16         2016\n",
       "18     December 16 2016     12  16         2016\n",
       "19     December 16 2016     12  16         2016\n",
       "20     December 15 2016     12  15         2016\n",
       "21     December 15 2016     12  15         1966\n",
       "22     December 15 2016     12  15         2016\n",
       "23     December 15 2016     12  15         2016\n",
       "24     December 14 2016     12  14         2016\n",
       "25     December 14 2016     12  14         2016\n",
       "26     December 14 2016     12  14         2016\n",
       "27     December 14 2016     12  14         2016\n",
       "28     December 11 2016     12  11         1998\n",
       "29     December 10 2016     12  10         2016\n",
       "...                 ...    ...  ..          ...\n",
       "19174     March 23 1999      3  23         1999\n",
       "19175     March 15 1999      3  15         1999\n",
       "19176      March 9 1999      3   9         1999\n",
       "19177      March 9 1999      3   9         1999\n",
       "19178      March 9 1999      3   9         1999\n",
       "19179      March 9 1999      3   9         1999\n",
       "19180      March 4 1999      3   4         1999\n",
       "19181      March 2 1999      3   2         1999\n",
       "19182      March 1 1999      3   1         1999\n",
       "19183  February 28 1999      2  28         1999\n",
       "19184  February 23 1999      2  23         1999\n",
       "19185  February 23 1999      2  23         1999\n",
       "19186  February 23 1999      2  23         1999\n",
       "19187  February 23 1999      2  23         1999\n",
       "19188  February 23 1999      2  23         1999\n",
       "19189  February 23 1999      2  23         1999\n",
       "19190  February 23 1999      2  23         1999\n",
       "19191  February 23 1999      2  23         1999\n",
       "19192  February 18 1999      2  18         1999\n",
       "19193  February 16 1999      2  16         1999\n",
       "19194  February 11 1999      2  11         1999\n",
       "19195   February 9 1999      2   9         1999\n",
       "19196   February 9 1999      2   9         1999\n",
       "19197   February 9 1999      2   9         1999\n",
       "19198   February 1 1999      2   1         1999\n",
       "19199   January 26 1999      1  26         1999\n",
       "19200   January 26 1999      1  26         1999\n",
       "19201   January 12 1999      1  12         1999\n",
       "19202   January 12 1999      1  12         1999\n",
       "19203    January 5 1999      1   5         1999\n",
       "\n",
       "[19204 rows x 4 columns]"
      ]
     },
     "execution_count": 107,
     "metadata": {},
     "output_type": "execute_result"
    }
   ],
   "source": [
    "month_scraped=12\n",
    "day_scraped=23\n",
    "df['Release Year']=df['years'].str.split(\"/\",expand=True)[0]\n",
    "df['day']=df['dates'].str.split(\" \",expand=True)[1]\n",
    "df.loc[df['day']==\"hrs\",'day']=day_scraped\n",
    "df.loc[df['Release Year'].isnull(),'Release Year']=df.loc[df['Release Year'].isnull(),'dates'].str.split(\" \",expand=True)[2]\n",
    "def get_month(name,number):\n",
    "    df.loc[df['dates'].str.split(\" \",expand=True)[0]==name,'month']=number\n",
    "months=[\"January\",\"February\",\"March\",\"April\",\"May\",\"June\",\"July\",\"August\",\"September\",\"October\",\"November\",\"December\"]\n",
    "for i in range(12):\n",
    "    get_month(months[i],i+1)\n",
    "df[['dates','month','day','Release Year']]"
   ]
  },
  {
   "cell_type": "code",
   "execution_count": 10,
   "metadata": {
    "collapsed": false
   },
   "outputs": [
    {
     "data": {
      "text/plain": [
       "<matplotlib.axes._subplots.AxesSubplot at 0x1e2326ab160>"
      ]
     },
     "execution_count": 10,
     "metadata": {},
     "output_type": "execute_result"
    },
    {
     "data": {
      "image/png": "[encoded data removed]",
      "text/plain": [
       "<matplotlib.figure.Figure at 0x1e2326b5860>"
      ]
     },
     "metadata": {},
     "output_type": "display_data"
    }
   ],
   "source": [
    "test=df.groupby(\"Release Year\").mean().reset_index()\n",
    "test.ix[test['Release Year'].astype(float)>1998].plot(x=\"Release Year\",y=\"scores\",legend=False)"
   ]
  },
  {
   "cell_type": "code",
   "execution_count": 11,
   "metadata": {
    "collapsed": false
   },
   "outputs": [
    {
     "data": {
      "text/plain": [
       "<matplotlib.axes._subplots.AxesSubplot at 0x1e2311db358>"
      ]
     },
     "execution_count": 11,
     "metadata": {},
     "output_type": "execute_result"
    },
    {
     "data": {
      "image/png": "[encoded data removed]",
      "text/plain": [
       "<matplotlib.figure.Figure at 0x1e2325d2748>"
      ]
     },
     "metadata": {},
     "output_type": "display_data"
    }
   ],
   "source": [
    "test.plot(x=\"Release Year\",y=\"scores\",legend=False)"
   ]
  },
  {
   "cell_type": "code",
   "execution_count": 12,
   "metadata": {
    "collapsed": false
   },
   "outputs": [
    {
     "data": {
      "text/plain": [
       "<Container object of 18 artists>"
      ]
     },
     "execution_count": 12,
     "metadata": {},
     "output_type": "execute_result"
    },
    {
     "data": {
      "image/png": "[encoded data removed]",
      "text/plain": [
       "<matplotlib.figure.Figure at 0x1e232652eb8>"
      ]
     },
     "metadata": {},
     "output_type": "display_data"
    }
   ],
   "source": [
    "plt.bar(test.ix[test['Release Year'].astype(float)>1998]['Release Year'],test.ix[test['Release Year'].astype(float)>1998]['scores'])"
   ]
  },
  {
   "cell_type": "code",
   "execution_count": 15,
   "metadata": {
    "collapsed": false
   },
   "outputs": [],
   "source": [
    "# run to get # of album reviews per year\n",
    "#df.groupby(\"Release Year\").count().reset_index()"
   ]
  },
  {
   "cell_type": "code",
   "execution_count": 20,
   "metadata": {
    "collapsed": false
   },
   "outputs": [],
   "source": [
    "labels75=df.groupby('labels').count()[df.groupby(\"labels\").count()['artists']>75].reset_index()['labels'].tolist()\n",
    "labels=df.groupby(\"labels\").mean()"
   ]
  },
  {
   "cell_type": "code",
   "execution_count": 29,
   "metadata": {
    "collapsed": false
   },
   "outputs": [
    {
     "data": {
      "text/plain": [
       "<matplotlib.axes._subplots.AxesSubplot at 0x1e23270e0b8>"
      ]
     },
     "execution_count": 29,
     "metadata": {},
     "output_type": "execute_result"
    },
    {
     "data": {
      "image/png": "[encoded data removed]",
      "text/plain": [
       "<matplotlib.figure.Figure at 0x1e2326d2710>"
      ]
     },
     "metadata": {},
     "output_type": "display_data"
    }
   ],
   "source": [
    "labels.reset_index().ix[labels.reset_index()['labels'].isin(labels75)].sort_values('scores',ascending=False).plot(x=\"labels\",y=\"scores\",kind=\"bar\")"
   ]
  },
  {
   "cell_type": "code",
   "execution_count": 36,
   "metadata": {
    "collapsed": false
   },
   "outputs": [],
   "source": [
    "countsmeans=df.groupby(\"labels\").count().reset_index()[['labels','album']].merge(labels.reset_index())"
   ]
  },
  {
   "cell_type": "code",
   "execution_count": 41,
   "metadata": {
    "collapsed": false
   },
   "outputs": [
    {
     "data": {
      "text/plain": [
       "<matplotlib.axes._subplots.AxesSubplot at 0x1e232c99d68>"
      ]
     },
     "execution_count": 41,
     "metadata": {},
     "output_type": "execute_result"
    },
    {
     "data": {
      "image/png": "[encoded data removed]",
      "text/plain": [
       "<matplotlib.figure.Figure at 0x1e232d2e048>"
      ]
     },
     "metadata": {},
     "output_type": "display_data"
    }
   ],
   "source": [
    "countsmeans.plot.scatter(x=\"album\",y=\"scores\")"
   ]
  },
  {
   "cell_type": "code",
   "execution_count": 50,
   "metadata": {
    "collapsed": false
   },
   "outputs": [],
   "source": [
    "artistscores=df.groupby(\"artists\").mean().sort_values(\"scores\",ascending=False).reset_index()\n",
    "artistcounts=df.groupby(\"artists\").count().reset_index()[['artists','album']]"
   ]
  },
  {
   "cell_type": "code",
   "execution_count": 52,
   "metadata": {
    "collapsed": false
   },
   "outputs": [
    {
     "data": {
      "text/html": [
       "<div>\n",
       "<table border=\"1\" class=\"dataframe\">\n",
       "  <thead>\n",
       "    <tr style=\"text-align: right;\">\n",
       "      <th></th>\n",
       "      <th>artists</th>\n",
       "      <th>scores</th>\n",
       "      <th>album</th>\n",
       "    </tr>\n",
       "  </thead>\n",
       "  <tbody>\n",
       "    <tr>\n",
       "      <th>156</th>\n",
       "      <td>Slowdive</td>\n",
       "      <td>8.625</td>\n",
       "      <td>4</td>\n",
       "    </tr>\n",
       "  </tbody>\n",
       "</table>\n",
       "</div>"
      ],
      "text/plain": [
       "      artists  scores  album\n",
       "156  Slowdive   8.625      4"
      ]
     },
     "execution_count": 52,
     "metadata": {},
     "output_type": "execute_result"
    }
   ],
   "source": [
    "artists=artistscores.merge(artistcounts)"
   ]
  },
  {
   "cell_type": "code",
   "execution_count": 57,
   "metadata": {
    "collapsed": false
   },
   "outputs": [
    {
     "data": {
      "text/html": [
       "<div>\n",
       "<table border=\"1\" class=\"dataframe\">\n",
       "  <thead>\n",
       "    <tr style=\"text-align: right;\">\n",
       "      <th></th>\n",
       "      <th>artists</th>\n",
       "      <th>scores</th>\n",
       "      <th>album</th>\n",
       "    </tr>\n",
       "  </thead>\n",
       "  <tbody>\n",
       "    <tr>\n",
       "      <th>3838</th>\n",
       "      <td>Various Artists</td>\n",
       "      <td>7.290569</td>\n",
       "      <td>721</td>\n",
       "    </tr>\n",
       "  </tbody>\n",
       "</table>\n",
       "</div>"
      ],
      "text/plain": [
       "              artists    scores  album\n",
       "3838  Various Artists  7.290569    721"
      ]
     },
     "execution_count": 57,
     "metadata": {},
     "output_type": "execute_result"
    }
   ],
   "source": [
    "artists.ix[artists['album']==721]"
   ]
  }
 ],
 "metadata": {
  "kernelspec": {
   "display_name": "Python 3",
   "language": "python",
   "name": "python3"
  },
  "language_info": {
   "codemirror_mode": {
    "name": "ipython",
    "version": 3
   },
   "file_extension": ".py",
   "mimetype": "text/x-python",
   "name": "python",
   "nbconvert_exporter": "python",
   "pygments_lexer": "ipython3",
   "version": "3.5.1"
  }
 },
 "nbformat": 4,
 "nbformat_minor": 0
}
