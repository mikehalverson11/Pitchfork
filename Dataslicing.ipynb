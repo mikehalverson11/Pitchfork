{
 "cells": [
  {
   "cell_type": "code",
   "execution_count": 78,
   "metadata": {
    "collapsed": true
   },
   "outputs": [],
   "source": [
    "%matplotlib inline\n",
    "import pandas as pd\n",
    "import matplotlib.pyplot as plt\n",
    "import numpy as np\n",
    "from scipy import stats"
   ]
  },
  {
   "cell_type": "code",
   "execution_count": 79,
   "metadata": {
    "collapsed": false
   },
   "outputs": [],
   "source": [
    "df=pd.read_csv(\"Pitchfork2.csv\",encoding = \"ISO-8859-1\")"
   ]
  },
  {
   "cell_type": "code",
   "execution_count": 80,
   "metadata": {
    "collapsed": false
   },
   "outputs": [],
   "source": [
    "df=df.drop('Unnamed: 0',axis=1)"
   ]
  },
  {
   "cell_type": "code",
   "execution_count": 81,
   "metadata": {
    "collapsed": false
   },
   "outputs": [],
   "source": [
    "month_scraped=12\n",
    "day_scraped=23\n",
    "df['Release Year']=df['years'].str.split(\"/\",expand=True)[0]\n",
    "df['day']=df['dates'].str.split(\" \",expand=True)[1]\n",
    "df.loc[df['day']==\"hrs\",'day']=day_scraped\n",
    "df.loc[df['Release Year'].isnull(),'Release Year']=df.loc[df['Release Year'].isnull(),'dates'].str.split(\" \",expand=True)[2]\n",
    "df['month']=month_scraped\n",
    "def get_month(name,number):\n",
    "    df.loc[df['dates'].str.split(\" \",expand=True)[0]==name,'month']=number\n",
    "months=[\"January\",\"February\",\"March\",\"April\",\"May\",\"June\",\"July\",\"August\",\"September\",\"October\",\"November\",\"December\"]\n",
    "for i in range(12):\n",
    "    get_month(months[i],i+1)"
   ]
  },
  {
   "cell_type": "code",
   "execution_count": 82,
   "metadata": {
    "collapsed": false
   },
   "outputs": [],
   "source": [
    "def genre_bool(genre_name):\n",
    "    df[genre_name]=0\n",
    "    df.loc[df['genre'].str.lower().str.contains(genre_name)==True,genre_name]=1\n",
    "genre_bool(\"electronic\")\n",
    "genre_bool(\"pop\")\n",
    "genre_bool(\"r&b\")\n",
    "genre_bool(\"rap\")\n",
    "genre_bool(\"experimental\")\n",
    "genre_bool(\"rock\")\n",
    "genre_bool(\"global\")\n",
    "genre_bool(\"folk\")\n",
    "genre_bool(\"country\")\n",
    "genre_bool(\"jazz\")\n",
    "genre_bool(\"experimental\")"
   ]
  },
  {
   "cell_type": "code",
   "execution_count": 83,
   "metadata": {
    "collapsed": false
   },
   "outputs": [],
   "source": [
    "def change_release_year(df,album,artist,year):\n",
    "    df.loc[(df['artists']==artist) & (df['album']==album),'Release Year']=year\n",
    "change_release_year(df,'Meat Is Murder','The Smiths',1985)\n",
    "change_release_year(df,'The Queen Is Dead','The Smiths',1986)\n",
    "change_release_year(df,'The Smiths','The Smiths',1984)\n",
    "change_release_year(df,'Strangeways, Here We Come','The Smiths',1987)\n",
    "change_release_year(df,'Rank','The Smiths',1988)\n",
    "change_release_year(df,'Hatful of Hollow','The Smiths',1984)\n",
    "change_release_year(df,\"The World Won't Listen\",'The Smiths',1987)\n",
    "change_release_year(df,'Louder Than Bombs','The Smiths',1987)\n",
    "change_release_year(df,'Disintegration [Deluxe Edition]','The Cure',1989)\n",
    "change_release_year(df,\"Tim\",\"The Replacements\",1985)\n",
    "change_release_year(df,\"Pleased to Meet Me\",\"The Replacements\",1987)\n",
    "change_release_year(df,\"Don't Tell a Soul\",\"The Replacements\",1989)\n",
    "change_release_year(df,\"Sorry Ma, Forgot to Take Out the Trash\",\"The Replacements\",1981)\n",
    "change_release_year(df,\"All Shook Down\",\"The Replacements\",1990)\n",
    "change_release_year(df,\"Stink\",\"The Replacements\",1982)\n",
    "change_release_year(df,\"Hootenanny\",\"The Replacements\",1983)\n",
    "change_release_year(df,\"Let It Be\",\"The Replacements\",1984)\n",
    "change_release_year(df,\"Spiderland\",\"Slint\",1991)\n",
    "change_release_year(df,\"The Disintegration Loops\",\"William Basinski\",2002)\n",
    "change_release_year(df,\"On Fire\",\"Galaxie 500\",1989)\n",
    "change_release_year(df,'Laughing Stock',\"Talk Talk\",1991)\n",
    "change_release_year(df,'Voodoo','DAngelo',2000)\n",
    "change_release_year(df,'The Velvet Underground & Nico','The Velvet Underground',1967)\n",
    "change_release_year(df,\"Power, Corruption and Lies\",'New Order',1983)\n",
    "change_release_year(df,\"Movement\",'New Order',1981)\n",
    "change_release_year(df,\"Low-Life\",'New Order',1985)\n",
    "change_release_year(df,\"Brotherhood\",'New Order',1986)\n",
    "change_release_year(df,\"Technique (deluxe editions)\",'New Order',1989)\n",
    "change_release_year(df,\"Animals\",'Pink Floyd',1977)\n"
   ]
  },
  {
   "cell_type": "code",
   "execution_count": 84,
   "metadata": {
    "collapsed": false
   },
   "outputs": [],
   "source": [
    "df['Reissue']=0\n",
    "df.loc[df['album'].str.lower().str.contains(\"reissue\")==True,'Reissue']=1\n",
    "df.loc[df['album'].str.lower().str.contains(\"deluxe\")==True,'Reissue']=1\n",
    "df.loc[df['album']==\"Cupid Deluxe\",'Reissue']=0\n",
    "df.loc[df['album']==\"Moon Deluxe\",'Reissue']=0\n",
    "df.loc[df['album']==\"Love Deluxe\",'Reissue']=1\n",
    "df.loc[df['album'].str.lower().str.contains(\"anniversary\")==True,'Reissue']=1\n",
    "df.loc[df['album']==\"Anniversary\",'Reissue']=0\n",
    "df.loc[df['album']==\"Protest a Dark Anniversary\",'Reissue']=0\n",
    "replace=df.loc[(df['years'].str.contains(\"/\")==True) & (df['Release Year'].astype(int)>2011) & (df['Release Year'].astype(int)<2015) \n",
    "                & (df['years'].str.split(\"/\",expand=True)[1]!=\"2016\"),'years'].str.split(\"/\",expand=True)[1]\n",
    "df.loc[(df['years'].str.contains(\"/\")==True) & (df['Release Year'].astype(int)>2011) & (df['Release Year'].astype(int)<2015) \n",
    "       & (df['years'].str.split(\"/\",expand=True)[1]!=\"2016\"),'Release Year']=replace\n",
    "\n",
    "df.loc[(df['album'].str.lower().str.contains('legacy')==True) & (df['album'].str.lower().str.contains('tron')==False),'Reissue']=1"
   ]
  },
  {
   "cell_type": "code",
   "execution_count": 85,
   "metadata": {
    "collapsed": false
   },
   "outputs": [],
   "source": [
    "df['Release Year']=df['Release Year'].astype(int)\n",
    "df['month']=df['month'].astype(int)\n",
    "df['day']=df['day'].astype(int)\n",
    "df=df.loc[df['Reissue']==0].sort_values(['artists','Release Year','month','day'],ascending=False)\n",
    "def get_previous_scores(number):\n",
    "    df['Prev'+str(number)]=dftest['scores'].shift(-number)\n",
    "    df.loc[dftest['artists']!=dftest['artists'].shift(-number),'Prev'+str(number)]=None\n",
    "for i in range(10):\n",
    "    get_previous_scores(i+1)"
   ]
  },
  {
   "cell_type": "code",
   "execution_count": 88,
   "metadata": {
    "collapsed": false
   },
   "outputs": [],
   "source": [
    "df.to_csv(\"Pitchforkcleaned.csv\")"
   ]
  },
  {
   "cell_type": "code",
   "execution_count": null,
   "metadata": {
    "collapsed": true
   },
   "outputs": [],
   "source": []
  },
  {
   "cell_type": "code",
   "execution_count": null,
   "metadata": {
    "collapsed": true
   },
   "outputs": [],
   "source": []
  }
 ],
 "metadata": {
  "kernelspec": {
   "display_name": "Python 3",
   "language": "python",
   "name": "python3"
  },
  "language_info": {
   "codemirror_mode": {
    "name": "ipython",
    "version": 3
   },
   "file_extension": ".py",
   "mimetype": "text/x-python",
   "name": "python",
   "nbconvert_exporter": "python",
   "pygments_lexer": "ipython3",
   "version": "3.5.1"
  }
 },
 "nbformat": 4,
 "nbformat_minor": 0
}
