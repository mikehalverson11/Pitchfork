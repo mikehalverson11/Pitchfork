{
 "cells": [
  {
   "cell_type": "code",
   "execution_count": 61,
   "metadata": {
    "collapsed": true
   },
   "outputs": [],
   "source": [
    "%matplotlib inline\n",
    "import pandas as pd\n",
    "import matplotlib.pyplot as plt\n",
    "import numpy as np\n",
    "import datetime\n",
    "from scipy import stats"
   ]
  },
  {
   "cell_type": "code",
   "execution_count": 62,
   "metadata": {
    "collapsed": false
   },
   "outputs": [],
   "source": [
    "df=pd.read_csv(\"Pitchfork2.csv\",encoding = \"ISO-8859-1\")"
   ]
  },
  {
   "cell_type": "code",
   "execution_count": 63,
   "metadata": {
    "collapsed": false
   },
   "outputs": [],
   "source": [
    "df=df.drop('Unnamed: 0',axis=1)\n",
    "df=df.drop_duplicates()\n",
    "df['album']=df['album'].str.split(\"\\r\\n\",expand=True)[0]"
   ]
  },
  {
   "cell_type": "code",
   "execution_count": 64,
   "metadata": {
    "collapsed": false
   },
   "outputs": [],
   "source": [
    "month_scraped=12\n",
    "day_scraped=23\n",
    "df['Release Year']=df['years'].str.split(\"/\",expand=True)[0]\n",
    "df['day']=df['dates'].str.split(\" \",expand=True)[1]\n",
    "df.loc[df['day']==\"hrs\",'day']=day_scraped\n",
    "df.loc[df['Release Year'].isnull(),'Release Year']=df.loc[df['Release Year'].isnull(),'dates'].str.split(\" \",expand=True)[2]\n",
    "df['month']=month_scraped\n",
    "def get_month(name,number):\n",
    "    df.loc[df['dates'].str.split(\" \",expand=True)[0]==name,'month']=number\n",
    "months=[\"January\",\"February\",\"March\",\"April\",\"May\",\"June\",\"July\",\"August\",\"September\",\"October\",\"November\",\"December\"]\n",
    "for i in range(12):\n",
    "    get_month(months[i],i+1)\n",
    "df['dates']=pd.to_datetime(df['dates'])"
   ]
  },
  {
   "cell_type": "code",
   "execution_count": 65,
   "metadata": {
    "collapsed": false
   },
   "outputs": [],
   "source": [
    "def genre_bool(genre_name):\n",
    "    df[genre_name]=0\n",
    "    df.loc[df['genre'].str.lower().str.contains(genre_name)==True,genre_name]=1\n",
    "genre_bool(\"electronic\")\n",
    "genre_bool(\"pop\")\n",
    "genre_bool(\"r&b\")\n",
    "genre_bool(\"rap\")\n",
    "genre_bool(\"experimental\")\n",
    "genre_bool(\"rock\")\n",
    "genre_bool(\"global\")\n",
    "genre_bool(\"folk\")\n",
    "genre_bool(\"country\")\n",
    "genre_bool(\"jazz\")\n",
    "genre_bool(\"experimental\")"
   ]
  },
  {
   "cell_type": "code",
   "execution_count": 77,
   "metadata": {
    "collapsed": false
   },
   "outputs": [],
   "source": [
    "def change_release_year(df,album,artist,year):\n",
    "    df.loc[(df['artists']==artist) & (df['album']==album),'Release Year']=year\n",
    "change_release_year(df,'Meat Is Murder','The Smiths',1985)\n",
    "change_release_year(df,'The Queen Is Dead','The Smiths',1986)\n",
    "change_release_year(df,'The Smiths','The Smiths',1984)\n",
    "change_release_year(df,'Strangeways, Here We Come','The Smiths',1987)\n",
    "change_release_year(df,'Rank','The Smiths',1988)\n",
    "change_release_year(df,'Hatful of Hollow','The Smiths',1984)\n",
    "change_release_year(df,\"The World Won't Listen\",'The Smiths',1987)\n",
    "change_release_year(df,'Louder Than Bombs','The Smiths',1987)\n",
    "change_release_year(df,'Disintegration [Deluxe Edition]','The Cure',1989)\n",
    "change_release_year(df,\"Tim\",\"The Replacements\",1985)\n",
    "change_release_year(df,\"Pleased to Meet Me\",\"The Replacements\",1987)\n",
    "change_release_year(df,\"Don't Tell a Soul\",\"The Replacements\",1989)\n",
    "change_release_year(df,\"Sorry Ma, Forgot to Take Out the Trash\",\"The Replacements\",1981)\n",
    "change_release_year(df,\"All Shook Down\",\"The Replacements\",1990)\n",
    "change_release_year(df,\"Stink\",\"The Replacements\",1982)\n",
    "change_release_year(df,\"Hootenanny\",\"The Replacements\",1983)\n",
    "change_release_year(df,\"Let It Be\",\"The Replacements\",1984)\n",
    "change_release_year(df,\"Spiderland\",\"Slint\",1991)\n",
    "change_release_year(df,\"The Disintegration Loops\",\"William Basinski\",2002)\n",
    "change_release_year(df,\"On Fire\",\"Galaxie 500\",1989)\n",
    "change_release_year(df,'Laughing Stock',\"Talk Talk\",1991)\n",
    "change_release_year(df,'Voodoo','DAngelo',2000)\n",
    "change_release_year(df,'The Velvet Underground & Nico','The Velvet Underground',1967)\n",
    "change_release_year(df,\"Power, Corruption and Lies\",'New Order',1983)\n",
    "change_release_year(df,\"Movement\",'New Order',1981)\n",
    "change_release_year(df,\"Low-Life\",'New Order',1985)\n",
    "change_release_year(df,\"Brotherhood\",'New Order',1986)\n",
    "change_release_year(df,\"Technique (deluxe editions)\",'New Order',1989)\n",
    "change_release_year(df,\"Animals\",'Pink Floyd',1977)\n",
    "change_release_year(df,\"May 1977: Get Shown the Light\",\"Grateful Dead\",1977)\n",
    "change_release_year(df,\"Thelonious Monk: Les Liaisons Dangereuses 1960\",\"Thelonious Monk\",1960)"
   ]
  },
  {
   "cell_type": "code",
   "execution_count": 67,
   "metadata": {
    "collapsed": false
   },
   "outputs": [],
   "source": [
    "df['Reissue']=0\n",
    "df.loc[df['album'].str.lower().str.contains(\"reissue\")==True,'Reissue']=1\n",
    "df.loc[df['album'].str.lower().str.contains(\"deluxe\")==True,'Reissue']=1\n",
    "df.loc[df['album']==\"Cupid Deluxe\",'Reissue']=0\n",
    "df.loc[df['album']==\"Moon Deluxe\",'Reissue']=0\n",
    "df.loc[df['album']==\"Love Deluxe\",'Reissue']=0\n",
    "df.loc[df['album'].str.lower().str.contains(\"anniversary\")==True,'Reissue']=1\n",
    "df.loc[df['album']==\"Anniversary\",'Reissue']=0\n",
    "df.loc[df['album']==\"Protest a Dark Anniversary\",'Reissue']=0\n",
    "replace=df.loc[(df['years'].str.contains(\"/\")==True) & (df['Release Year'].astype(int)>2011) & (df['Release Year'].astype(int)<2015) \n",
    "                & (df['years'].str.split(\"/\",expand=True)[1]!=\"2016\"),'years'].str.split(\"/\",expand=True)[1]\n",
    "df.loc[(df['years'].str.contains(\"/\")==True) & (df['Release Year'].astype(int)>2011) & (df['Release Year'].astype(int)<2015) \n",
    "       & (df['years'].str.split(\"/\",expand=True)[1]!=\"2016\"),'Release Year']=replace\n",
    "\n",
    "df.loc[(df['album'].str.lower().str.contains('legacy')==True) & (df['album'].str.lower().str.contains('tron')==False),'Reissue']=1"
   ]
  },
  {
   "cell_type": "code",
   "execution_count": 68,
   "metadata": {
    "collapsed": false
   },
   "outputs": [],
   "source": [
    "df['Release Year']=df['Release Year'].astype(int)\n",
    "df['month']=df['month'].astype(int)\n",
    "df['day']=df['day'].astype(int)\n",
    "df=df.loc[df['Reissue']==0].sort_values(['artists','Release Year','month','day'],ascending=False)\n",
    "def get_previous_scores(number):\n",
    "    df['Prev'+str(number)]=df['scores'].shift(-number)\n",
    "    df.loc[df['artists']!=df['artists'].shift(-number),'Prev'+str(number)]=-1\n",
    "for i in range(10):\n",
    "    get_previous_scores(i+1)"
   ]
  },
  {
   "cell_type": "code",
   "execution_count": 73,
   "metadata": {
    "collapsed": false
   },
   "outputs": [],
   "source": [
    "df['Wait']=df['Release Year']-df['Release Year'].shift(-1)\n",
    "df.loc[df['artists']!=df['artists'].shift(-1),'Wait']=-1\n",
    "df['Label Switch']=0\n",
    "df.loc[(df['labels']!=df['labels'].shift(-1)) & (df['artists']==df['artists'].shift(-1)),'Label Switch']=1"
   ]
  },
  {
   "cell_type": "code",
   "execution_count": 75,
   "metadata": {
    "collapsed": true
   },
   "outputs": [],
   "source": [
    "df['Major']=0\n",
    "def majorLabel(label):\n",
    "    df.loc[df['labels'].str.contains(label)==True,'Major']=1\n",
    "df['MajorIndie']=0\n",
    "def majorIndieLabel(label):\n",
    "    df.loc[df['labels'].str.contains(label)==True,'MajorIndie']=1\n",
    "majorLabel(\"Warner\")\n",
    "majorLabel(\"Universal\")\n",
    "majorLabel(\"Sony\")\n",
    "majorLabel(\"Columbia\")\n",
    "majorLabel(\"EMI\")\n",
    "majorLabel(\"Def Jam\")\n",
    "majorLabel(\"Roc-A-Fella\")\n",
    "majorLabel(\"Republic\")\n",
    "majorLabel(\"Capitol\")\n",
    "majorLabel(\"GOOD\")\n",
    "majorLabel(\"Atlantic\")\n",
    "majorLabel(\"Rhino\")\n",
    "majorLabel(\"Interscope\")\n",
    "majorLabel(\"Shady\")\n",
    "majorLabel(\"Flawless\")\n",
    "majorLabel(\"Geffen\")\n",
    "majorLabel(\"RCA\")\n",
    "majorLabel(\"Epic\")\n",
    "majorLabel(\"Legacy\")\n",
    "majorLabel(\"Provident\")\n",
    "majorLabel(\"Aftermath\")\n",
    "majorLabel(\"Astralwerks\")\n",
    "majorLabel(\"Virgin\")\n",
    "majorLabel(\"Rhino\")\n",
    "majorIndieLabel(\"XL\")\n",
    "majorIndieLabel(\"Sub Pop\")\n",
    "majorIndieLabel(\"Drag City\")\n",
    "majorIndieLabel(\"Thrill Jockey\")\n",
    "majorIndieLabel(\"Merge\")\n",
    "majorIndieLabel(\"Warp\")\n",
    "majorIndieLabel(\"Domino\")\n",
    "majorIndieLabel(\"Matador\")\n",
    "majorIndieLabel(\"Mute\")\n",
    "majorIndieLabel(\"Jagjaguwar\")\n",
    "majorIndieLabel(\"Secretly Canadian\")\n",
    "majorIndieLabel(\"4AD\")\n",
    "majorIndieLabel(\"Polyvinyl\")\n",
    "majorIndieLabel(\"Stones Throw\")\n",
    "df['Other']=0\n",
    "df.loc[(df['Major']==0) & (df['MajorIndie']==0),'Other']=1"
   ]
  },
  {
   "cell_type": "code",
   "execution_count": 78,
   "metadata": {
    "collapsed": false
   },
   "outputs": [],
   "source": [
    "df.to_csv(\"Pitchforkcleaned.csv\")"
   ]
  },
  {
   "cell_type": "code",
   "execution_count": null,
   "metadata": {
    "collapsed": false
   },
   "outputs": [],
   "source": []
  },
  {
   "cell_type": "code",
   "execution_count": null,
   "metadata": {
    "collapsed": false
   },
   "outputs": [],
   "source": []
  },
  {
   "cell_type": "code",
   "execution_count": null,
   "metadata": {
    "collapsed": true
   },
   "outputs": [],
   "source": []
  }
 ],
 "metadata": {
  "kernelspec": {
   "display_name": "Python 3",
   "language": "python",
   "name": "python3"
  },
  "language_info": {
   "codemirror_mode": {
    "name": "ipython",
    "version": 3
   },
   "file_extension": ".py",
   "mimetype": "text/x-python",
   "name": "python",
   "nbconvert_exporter": "python",
   "pygments_lexer": "ipython3",
   "version": "3.5.1"
  }
 },
 "nbformat": 4,
 "nbformat_minor": 0
}
